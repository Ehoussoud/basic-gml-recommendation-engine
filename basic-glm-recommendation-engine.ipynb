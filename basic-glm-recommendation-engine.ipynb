{
 "cells": [
  {
   "cell_type": "markdown",
   "id": "dbef8c9d",
   "metadata": {},
   "source": [
    "# Basic GML Recommendation Engine "
   ]
  },
  {
   "cell_type": "code",
   "execution_count": 1,
   "id": "44f10ea6",
   "metadata": {},
   "outputs": [],
   "source": [
    "import networkx as nx"
   ]
  },
  {
   "cell_type": "code",
   "execution_count": 2,
   "id": "59d6768a",
   "metadata": {},
   "outputs": [
    {
     "name": "stdout",
     "output_type": "stream",
     "text": [
      "Movie 2\n",
      "Movie 3\n",
      "Movie 1\n"
     ]
    }
   ],
   "source": [
    "# Create a new graph\n",
    "G = nx.Graph()\n",
    "# Add nodes for the movies\n",
    "G.add_nodes_from([\"Movie 1\", \"Movie 2\", \"Movie 3\", \"Movie 4\"])\n",
    "# Add edges representing relationships between movies (e.g., similar genres)\n",
    "G.add_edge(\"Movie 1\", \"Movie 2\")\n",
    "G.add_edge(\"Movie 2\", \"Movie 3\")\n",
    "G.add_edge(\"Movie 3\", \"Movie 4\")\n",
    "# Run the PageRank algorithm\n",
    "pr = nx.pagerank(G)\n",
    "# Sort the movies by their PageRank scores\n",
    "sorted_movies = sorted(pr.items(), key=lambda x: x[1], reverse=True)\n",
    "# Print the top movie recommendations for the user\n",
    "for movie, score in sorted_movies[:3]:\n",
    "    print(movie)"
   ]
  },
  {
   "cell_type": "code",
   "execution_count": 3,
   "id": "e5c34df3",
   "metadata": {},
   "outputs": [
    {
     "name": "stdout",
     "output_type": "stream",
     "text": [
      "Movie 2\n"
     ]
    }
   ],
   "source": [
    "# Add nodes for the users\n",
    "G.add_nodes_from([\"User 1\", \"User 2\", \"User 3\"])\n",
    "\n",
    "# Add edges representing relationships between users and movies (e.g., watched or liked)\n",
    "G.add_edge(\"User 1\", \"Movie 1\")\n",
    "G.add_edge(\"User 1\", \"Movie 2\")\n",
    "G.add_edge(\"User 2\", \"Movie 2\")\n",
    "G.add_edge(\"User 2\", \"Movie 3\")\n",
    "G.add_edge(\"User 3\", \"Movie 3\")\n",
    "G.add_edge(\"User 3\", \"Movie 4\")\n",
    "\n",
    "# Use a graph algorithm to analyze the relationships between users and movies\n",
    "# and make recommendations based on the preferences of similar users\n",
    "similar_users = nx.common_neighbors(G, \"User 1\", \"User 2\")\n",
    "# Print the similar movies for the similar user\n",
    "for movie in similar_users:\n",
    "    print(movie)"
   ]
  },
  {
   "cell_type": "code",
   "execution_count": null,
   "id": "422989a4",
   "metadata": {},
   "outputs": [],
   "source": []
  }
 ],
 "metadata": {
  "kernelspec": {
   "display_name": "Python 3 (ipykernel)",
   "language": "python",
   "name": "python3"
  },
  "language_info": {
   "codemirror_mode": {
    "name": "ipython",
    "version": 3
   },
   "file_extension": ".py",
   "mimetype": "text/x-python",
   "name": "python",
   "nbconvert_exporter": "python",
   "pygments_lexer": "ipython3",
   "version": "3.9.12"
  }
 },
 "nbformat": 4,
 "nbformat_minor": 5
}
